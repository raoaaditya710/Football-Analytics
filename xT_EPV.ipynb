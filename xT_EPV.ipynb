{
 "cells": [
  {
   "cell_type": "code",
   "execution_count": 1,
   "metadata": {},
   "outputs": [],
   "source": [
    "import pandas as pd\n",
    "import numpy as np\n",
    "import json\n",
    "import matplotlib.pyplot as plt"
   ]
  },
  {
   "cell_type": "code",
   "execution_count": 2,
   "metadata": {},
   "outputs": [],
   "source": [
    "### EPV = Expected Possession Value ,  xT = Expected Threat"
   ]
  },
  {
   "cell_type": "code",
   "execution_count": 3,
   "metadata": {},
   "outputs": [
    {
     "name": "stdout",
     "output_type": "stream",
     "text": [
      "Choose xT or EPV : \n",
      "NonexT\n"
     ]
    }
   ],
   "source": [
    "TYPE = input(print('Choose xT or EPV : '))"
   ]
  },
  {
   "cell_type": "code",
   "execution_count": 4,
   "metadata": {},
   "outputs": [
    {
     "data": {
      "text/plain": [
       "'xT'"
      ]
     },
     "execution_count": 4,
     "metadata": {},
     "output_type": "execute_result"
    }
   ],
   "source": [
    "TYPE"
   ]
  },
  {
   "cell_type": "code",
   "execution_count": 6,
   "metadata": {},
   "outputs": [],
   "source": [
    "#Choose either EPV or xT as type\n",
    "#TYPE = input(print('Choose xT or EPV : '))\n",
    "if TYPE == \"xT\":    \n",
    "    with open(\"expected_threat.json\", \"r\") as f:\n",
    "        xtd = json.load(f) \n",
    "    xtd = np.array(xtd)\n",
    "elif TYPE == \"EPV\":\n",
    "    xtd = pd.read_csv(\"EPV_grid.csv\").to_numpy()"
   ]
  },
  {
   "cell_type": "code",
   "execution_count": 7,
   "metadata": {},
   "outputs": [
    {
     "name": "stdout",
     "output_type": "stream",
     "text": [
      "8 12\n"
     ]
    }
   ],
   "source": [
    "n_rows, n_cols = xtd.shape\n",
    "print(n_rows, n_cols)"
   ]
  },
  {
   "cell_type": "code",
   "execution_count": 8,
   "metadata": {},
   "outputs": [
    {
     "data": {
      "image/png": "[encoded data removed]",
      "text/plain": [
       "<Figure size 432x288 with 1 Axes>"
      ]
     },
     "metadata": {
      "needs_background": "light"
     },
     "output_type": "display_data"
    }
   ],
   "source": [
    "#Display the xT map\n",
    "plt.imshow(xtd, cmap=\"inferno\");"
   ]
  },
  {
   "cell_type": "code",
   "execution_count": 9,
   "metadata": {},
   "outputs": [
    {
     "data": {
      "text/html": [
       "<div>\n",
       "<style scoped>\n",
       "    .dataframe tbody tr th:only-of-type {\n",
       "        vertical-align: middle;\n",
       "    }\n",
       "\n",
       "    .dataframe tbody tr th {\n",
       "        vertical-align: top;\n",
       "    }\n",
       "\n",
       "    .dataframe thead th {\n",
       "        text-align: right;\n",
       "    }\n",
       "</style>\n",
       "<table border=\"1\" class=\"dataframe\">\n",
       "  <thead>\n",
       "    <tr style=\"text-align: right;\">\n",
       "      <th></th>\n",
       "      <th>x1</th>\n",
       "      <th>x2</th>\n",
       "      <th>y1</th>\n",
       "      <th>y2</th>\n",
       "    </tr>\n",
       "  </thead>\n",
       "  <tbody>\n",
       "    <tr>\n",
       "      <th>0</th>\n",
       "      <td>37.454012</td>\n",
       "      <td>95.071431</td>\n",
       "      <td>73.199394</td>\n",
       "      <td>59.865848</td>\n",
       "    </tr>\n",
       "    <tr>\n",
       "      <th>1</th>\n",
       "      <td>15.601864</td>\n",
       "      <td>15.599452</td>\n",
       "      <td>5.808361</td>\n",
       "      <td>86.617615</td>\n",
       "    </tr>\n",
       "    <tr>\n",
       "      <th>2</th>\n",
       "      <td>60.111501</td>\n",
       "      <td>70.807258</td>\n",
       "      <td>2.058449</td>\n",
       "      <td>96.990985</td>\n",
       "    </tr>\n",
       "    <tr>\n",
       "      <th>3</th>\n",
       "      <td>83.244264</td>\n",
       "      <td>21.233911</td>\n",
       "      <td>18.182497</td>\n",
       "      <td>18.340451</td>\n",
       "    </tr>\n",
       "    <tr>\n",
       "      <th>4</th>\n",
       "      <td>30.424224</td>\n",
       "      <td>52.475643</td>\n",
       "      <td>43.194502</td>\n",
       "      <td>29.122914</td>\n",
       "    </tr>\n",
       "  </tbody>\n",
       "</table>\n",
       "</div>"
      ],
      "text/plain": [
       "          x1         x2         y1         y2\n",
       "0  37.454012  95.071431  73.199394  59.865848\n",
       "1  15.601864  15.599452   5.808361  86.617615\n",
       "2  60.111501  70.807258   2.058449  96.990985\n",
       "3  83.244264  21.233911  18.182497  18.340451\n",
       "4  30.424224  52.475643  43.194502  29.122914"
      ]
     },
     "execution_count": 9,
     "metadata": {},
     "output_type": "execute_result"
    }
   ],
   "source": [
    "np.random.seed(42)\n",
    "\n",
    "pass_df = pd.DataFrame(np.random.random((100, 4))*100, columns=['x1', 'x2', 'y1', 'y2']) ##fake pass data coordinates\n",
    "pass_df.head()"
   ]
  },
  {
   "cell_type": "code",
   "execution_count": 10,
   "metadata": {},
   "outputs": [],
   "source": [
    "### Bin the data according to the shape of the loaded xt array\n",
    "###assuming 100 is the upper maximum limit\n",
    "pass_df['x1_bin'] = pass_df.x1.apply(lambda val: int(val/(100/n_cols)) if val != 100 else int(val/(100/n_cols)) - 1 )\n",
    "pass_df['x2_bin'] = pass_df.x2.apply(lambda val: int(val/(100/n_cols)) if val != 100 else int(val/(100/n_cols)) - 1 )\n",
    "\n",
    "pass_df['y1_bin'] = pass_df.y1.apply(lambda val: int(val/(100/n_rows)) if val != 100 else int(val/(100/n_rows)) - 1 )\n",
    "pass_df['y2_bin'] = pass_df.y2.apply(lambda val: int(val/(100/n_rows)) if val != 100 else int(val/(100/n_rows)) - 1 )"
   ]
  },
  {
   "cell_type": "code",
   "execution_count": 11,
   "metadata": {},
   "outputs": [
    {
     "data": {
      "text/html": [
       "<div>\n",
       "<style scoped>\n",
       "    .dataframe tbody tr th:only-of-type {\n",
       "        vertical-align: middle;\n",
       "    }\n",
       "\n",
       "    .dataframe tbody tr th {\n",
       "        vertical-align: top;\n",
       "    }\n",
       "\n",
       "    .dataframe thead th {\n",
       "        text-align: right;\n",
       "    }\n",
       "</style>\n",
       "<table border=\"1\" class=\"dataframe\">\n",
       "  <thead>\n",
       "    <tr style=\"text-align: right;\">\n",
       "      <th></th>\n",
       "      <th>x1</th>\n",
       "      <th>x2</th>\n",
       "      <th>y1</th>\n",
       "      <th>y2</th>\n",
       "      <th>x1_bin</th>\n",
       "      <th>x2_bin</th>\n",
       "      <th>y1_bin</th>\n",
       "      <th>y2_bin</th>\n",
       "    </tr>\n",
       "  </thead>\n",
       "  <tbody>\n",
       "    <tr>\n",
       "      <th>0</th>\n",
       "      <td>37.454012</td>\n",
       "      <td>95.071431</td>\n",
       "      <td>73.199394</td>\n",
       "      <td>59.865848</td>\n",
       "      <td>4</td>\n",
       "      <td>11</td>\n",
       "      <td>5</td>\n",
       "      <td>4</td>\n",
       "    </tr>\n",
       "    <tr>\n",
       "      <th>1</th>\n",
       "      <td>15.601864</td>\n",
       "      <td>15.599452</td>\n",
       "      <td>5.808361</td>\n",
       "      <td>86.617615</td>\n",
       "      <td>1</td>\n",
       "      <td>1</td>\n",
       "      <td>0</td>\n",
       "      <td>6</td>\n",
       "    </tr>\n",
       "    <tr>\n",
       "      <th>2</th>\n",
       "      <td>60.111501</td>\n",
       "      <td>70.807258</td>\n",
       "      <td>2.058449</td>\n",
       "      <td>96.990985</td>\n",
       "      <td>7</td>\n",
       "      <td>8</td>\n",
       "      <td>0</td>\n",
       "      <td>7</td>\n",
       "    </tr>\n",
       "    <tr>\n",
       "      <th>3</th>\n",
       "      <td>83.244264</td>\n",
       "      <td>21.233911</td>\n",
       "      <td>18.182497</td>\n",
       "      <td>18.340451</td>\n",
       "      <td>9</td>\n",
       "      <td>2</td>\n",
       "      <td>1</td>\n",
       "      <td>1</td>\n",
       "    </tr>\n",
       "    <tr>\n",
       "      <th>4</th>\n",
       "      <td>30.424224</td>\n",
       "      <td>52.475643</td>\n",
       "      <td>43.194502</td>\n",
       "      <td>29.122914</td>\n",
       "      <td>3</td>\n",
       "      <td>6</td>\n",
       "      <td>3</td>\n",
       "      <td>2</td>\n",
       "    </tr>\n",
       "  </tbody>\n",
       "</table>\n",
       "</div>"
      ],
      "text/plain": [
       "          x1         x2         y1         y2  x1_bin  x2_bin  y1_bin  y2_bin\n",
       "0  37.454012  95.071431  73.199394  59.865848       4      11       5       4\n",
       "1  15.601864  15.599452   5.808361  86.617615       1       1       0       6\n",
       "2  60.111501  70.807258   2.058449  96.990985       7       8       0       7\n",
       "3  83.244264  21.233911  18.182497  18.340451       9       2       1       1\n",
       "4  30.424224  52.475643  43.194502  29.122914       3       6       3       2"
      ]
     },
     "execution_count": 11,
     "metadata": {},
     "output_type": "execute_result"
    }
   ],
   "source": [
    "pass_df.head()"
   ]
  },
  {
   "cell_type": "code",
   "execution_count": 12,
   "metadata": {},
   "outputs": [],
   "source": [
    "### Now we just loop over every row and get correspoding xt value for the pass's start and end bins\n",
    "pass_df['start_zone_value'] = pass_df[['x1_bin', 'y1_bin']].apply(lambda x: xtd[x[1]][x[0]], axis=1)\n",
    "pass_df['end_zone_value'] = pass_df[['x2_bin', 'y2_bin']].apply(lambda x: xtd[x[1]][x[0]], axis=1)"
   ]
  },
  {
   "cell_type": "code",
   "execution_count": 13,
   "metadata": {},
   "outputs": [
    {
     "data": {
      "text/html": [
       "<div>\n",
       "<style scoped>\n",
       "    .dataframe tbody tr th:only-of-type {\n",
       "        vertical-align: middle;\n",
       "    }\n",
       "\n",
       "    .dataframe tbody tr th {\n",
       "        vertical-align: top;\n",
       "    }\n",
       "\n",
       "    .dataframe thead th {\n",
       "        text-align: right;\n",
       "    }\n",
       "</style>\n",
       "<table border=\"1\" class=\"dataframe\">\n",
       "  <thead>\n",
       "    <tr style=\"text-align: right;\">\n",
       "      <th></th>\n",
       "      <th>x1</th>\n",
       "      <th>x2</th>\n",
       "      <th>y1</th>\n",
       "      <th>y2</th>\n",
       "      <th>x1_bin</th>\n",
       "      <th>x2_bin</th>\n",
       "      <th>y1_bin</th>\n",
       "      <th>y2_bin</th>\n",
       "      <th>start_zone_value</th>\n",
       "      <th>end_zone_value</th>\n",
       "    </tr>\n",
       "  </thead>\n",
       "  <tbody>\n",
       "    <tr>\n",
       "      <th>0</th>\n",
       "      <td>37.454012</td>\n",
       "      <td>95.071431</td>\n",
       "      <td>73.199394</td>\n",
       "      <td>59.865848</td>\n",
       "      <td>4</td>\n",
       "      <td>11</td>\n",
       "      <td>5</td>\n",
       "      <td>4</td>\n",
       "      <td>0.012692</td>\n",
       "      <td>0.257454</td>\n",
       "    </tr>\n",
       "    <tr>\n",
       "      <th>1</th>\n",
       "      <td>15.601864</td>\n",
       "      <td>15.599452</td>\n",
       "      <td>5.808361</td>\n",
       "      <td>86.617615</td>\n",
       "      <td>1</td>\n",
       "      <td>1</td>\n",
       "      <td>0</td>\n",
       "      <td>6</td>\n",
       "      <td>0.007796</td>\n",
       "      <td>0.008786</td>\n",
       "    </tr>\n",
       "    <tr>\n",
       "      <th>2</th>\n",
       "      <td>60.111501</td>\n",
       "      <td>70.807258</td>\n",
       "      <td>2.058449</td>\n",
       "      <td>96.990985</td>\n",
       "      <td>7</td>\n",
       "      <td>8</td>\n",
       "      <td>0</td>\n",
       "      <td>7</td>\n",
       "      <td>0.017451</td>\n",
       "      <td>0.021221</td>\n",
       "    </tr>\n",
       "    <tr>\n",
       "      <th>3</th>\n",
       "      <td>83.244264</td>\n",
       "      <td>21.233911</td>\n",
       "      <td>18.182497</td>\n",
       "      <td>18.340451</td>\n",
       "      <td>9</td>\n",
       "      <td>2</td>\n",
       "      <td>1</td>\n",
       "      <td>1</td>\n",
       "      <td>0.029533</td>\n",
       "      <td>0.009424</td>\n",
       "    </tr>\n",
       "    <tr>\n",
       "      <th>4</th>\n",
       "      <td>30.424224</td>\n",
       "      <td>52.475643</td>\n",
       "      <td>43.194502</td>\n",
       "      <td>29.122914</td>\n",
       "      <td>3</td>\n",
       "      <td>6</td>\n",
       "      <td>3</td>\n",
       "      <td>2</td>\n",
       "      <td>0.011324</td>\n",
       "      <td>0.016856</td>\n",
       "    </tr>\n",
       "  </tbody>\n",
       "</table>\n",
       "</div>"
      ],
      "text/plain": [
       "          x1         x2         y1         y2  x1_bin  x2_bin  y1_bin  y2_bin  \\\n",
       "0  37.454012  95.071431  73.199394  59.865848       4      11       5       4   \n",
       "1  15.601864  15.599452   5.808361  86.617615       1       1       0       6   \n",
       "2  60.111501  70.807258   2.058449  96.990985       7       8       0       7   \n",
       "3  83.244264  21.233911  18.182497  18.340451       9       2       1       1   \n",
       "4  30.424224  52.475643  43.194502  29.122914       3       6       3       2   \n",
       "\n",
       "   start_zone_value  end_zone_value  \n",
       "0          0.012692        0.257454  \n",
       "1          0.007796        0.008786  \n",
       "2          0.017451        0.021221  \n",
       "3          0.029533        0.009424  \n",
       "4          0.011324        0.016856  "
      ]
     },
     "execution_count": 13,
     "metadata": {},
     "output_type": "execute_result"
    }
   ],
   "source": [
    "pass_df.head()"
   ]
  },
  {
   "cell_type": "code",
   "execution_count": 14,
   "metadata": {},
   "outputs": [],
   "source": [
    "pass_df['pass_xt_value'] = pass_df['end_zone_value'] - pass_df['start_zone_value'] ##value of any pass = value at end zone - value at start zone\n",
    "pass_df = pass_df[[col for col in pass_df.columns if 'bin' not in col]] ##removing the bins as they are not required"
   ]
  },
  {
   "cell_type": "code",
   "execution_count": 15,
   "metadata": {},
   "outputs": [
    {
     "data": {
      "text/html": [
       "<div>\n",
       "<style scoped>\n",
       "    .dataframe tbody tr th:only-of-type {\n",
       "        vertical-align: middle;\n",
       "    }\n",
       "\n",
       "    .dataframe tbody tr th {\n",
       "        vertical-align: top;\n",
       "    }\n",
       "\n",
       "    .dataframe thead th {\n",
       "        text-align: right;\n",
       "    }\n",
       "</style>\n",
       "<table border=\"1\" class=\"dataframe\">\n",
       "  <thead>\n",
       "    <tr style=\"text-align: right;\">\n",
       "      <th></th>\n",
       "      <th>x1</th>\n",
       "      <th>x2</th>\n",
       "      <th>y1</th>\n",
       "      <th>y2</th>\n",
       "      <th>start_zone_value</th>\n",
       "      <th>end_zone_value</th>\n",
       "      <th>pass_xt_value</th>\n",
       "    </tr>\n",
       "  </thead>\n",
       "  <tbody>\n",
       "    <tr>\n",
       "      <th>0</th>\n",
       "      <td>37.454012</td>\n",
       "      <td>95.071431</td>\n",
       "      <td>73.199394</td>\n",
       "      <td>59.865848</td>\n",
       "      <td>0.012692</td>\n",
       "      <td>0.257454</td>\n",
       "      <td>0.244762</td>\n",
       "    </tr>\n",
       "    <tr>\n",
       "      <th>1</th>\n",
       "      <td>15.601864</td>\n",
       "      <td>15.599452</td>\n",
       "      <td>5.808361</td>\n",
       "      <td>86.617615</td>\n",
       "      <td>0.007796</td>\n",
       "      <td>0.008786</td>\n",
       "      <td>0.000990</td>\n",
       "    </tr>\n",
       "    <tr>\n",
       "      <th>2</th>\n",
       "      <td>60.111501</td>\n",
       "      <td>70.807258</td>\n",
       "      <td>2.058449</td>\n",
       "      <td>96.990985</td>\n",
       "      <td>0.017451</td>\n",
       "      <td>0.021221</td>\n",
       "      <td>0.003771</td>\n",
       "    </tr>\n",
       "    <tr>\n",
       "      <th>3</th>\n",
       "      <td>83.244264</td>\n",
       "      <td>21.233911</td>\n",
       "      <td>18.182497</td>\n",
       "      <td>18.340451</td>\n",
       "      <td>0.029533</td>\n",
       "      <td>0.009424</td>\n",
       "      <td>-0.020109</td>\n",
       "    </tr>\n",
       "    <tr>\n",
       "      <th>4</th>\n",
       "      <td>30.424224</td>\n",
       "      <td>52.475643</td>\n",
       "      <td>43.194502</td>\n",
       "      <td>29.122914</td>\n",
       "      <td>0.011324</td>\n",
       "      <td>0.016856</td>\n",
       "      <td>0.005532</td>\n",
       "    </tr>\n",
       "  </tbody>\n",
       "</table>\n",
       "</div>"
      ],
      "text/plain": [
       "          x1         x2         y1         y2  start_zone_value  \\\n",
       "0  37.454012  95.071431  73.199394  59.865848          0.012692   \n",
       "1  15.601864  15.599452   5.808361  86.617615          0.007796   \n",
       "2  60.111501  70.807258   2.058449  96.990985          0.017451   \n",
       "3  83.244264  21.233911  18.182497  18.340451          0.029533   \n",
       "4  30.424224  52.475643  43.194502  29.122914          0.011324   \n",
       "\n",
       "   end_zone_value  pass_xt_value  \n",
       "0        0.257454       0.244762  \n",
       "1        0.008786       0.000990  \n",
       "2        0.021221       0.003771  \n",
       "3        0.009424      -0.020109  \n",
       "4        0.016856       0.005532  "
      ]
     },
     "execution_count": 15,
     "metadata": {},
     "output_type": "execute_result"
    }
   ],
   "source": [
    "pass_df.head()"
   ]
  },
  {
   "cell_type": "code",
   "execution_count": null,
   "metadata": {},
   "outputs": [],
   "source": []
  }
 ],
 "metadata": {
  "kernelspec": {
   "display_name": "Python 3",
   "language": "python",
   "name": "python3"
  },
  "language_info": {
   "codemirror_mode": {
    "name": "ipython",
    "version": 3
   },
   "file_extension": ".py",
   "mimetype": "text/x-python",
   "name": "python",
   "nbconvert_exporter": "python",
   "pygments_lexer": "ipython3",
   "version": "3.7.6"
  }
 },
 "nbformat": 4,
 "nbformat_minor": 4
}
